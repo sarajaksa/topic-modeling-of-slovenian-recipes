{
 "cells": [
  {
   "cell_type": "markdown",
   "metadata": {},
   "source": [
    "## The 12 Cooking Groups from Slovenian Recipes"
   ]
  },
  {
   "cell_type": "code",
   "execution_count": 1,
   "metadata": {},
   "outputs": [],
   "source": [
    "import gensim\n",
    "import pickle\n",
    "from nltk.tokenize import word_tokenize\n",
    "import re\n",
    "import collections"
   ]
  },
  {
   "cell_type": "code",
   "execution_count": 2,
   "metadata": {},
   "outputs": [],
   "source": [
    "with open(\"ingredients_by_recipe.pickle\", \"rb\") as f:\n",
    "    recipes_ingredients = pickle.load(f)"
   ]
  },
  {
   "cell_type": "code",
   "execution_count": 3,
   "metadata": {},
   "outputs": [],
   "source": [
    "recipes_ingredients = [\" \".join(i).split(\" \") for i in recipes_ingredients]"
   ]
  },
  {
   "cell_type": "code",
   "execution_count": 4,
   "metadata": {},
   "outputs": [],
   "source": [
    "dic = gensim.corpora.Dictionary(recipes_ingredients)\n",
    "doc_term = [dic.doc2bow(text) for text in recipes_ingredients]"
   ]
  },
  {
   "cell_type": "code",
   "execution_count": 5,
   "metadata": {},
   "outputs": [],
   "source": [
    "model_vw = gensim.models.wrappers.ldavowpalwabbit.LdaVowpalWabbit('/usr/bin/vw', \n",
    "                                                                   corpus=doc_term, \n",
    "                                                                   id2word=dic,\n",
    "                                                                   num_topics=12,\n",
    "                                                                   passes=20\n",
    "                                                                  )"
   ]
  },
  {
   "cell_type": "code",
   "execution_count": 6,
   "metadata": {},
   "outputs": [
    {
     "name": "stdout",
     "output_type": "stream",
     "text": [
      "[(0.00798571, 'izbiri)'), (0.0047298516, 'lastni'), (0.0038420833, 'ste'), (0.0037098022, 'noč'), (0.0035693604, 'agar'), (0.0028802403, 'vsaj'), (0.002774745, 'namočeni'), (0.002759261, 'jajc)'), (0.0027159282, 'občutku,'), (0.002412079, 'podlago'), (0.0024057496, 'sojino'), (0.0023863097, 'štručka'), (0.0023556128, 'želji):'), (0.0022717277, '(fino'), (0.0022023227, 'panna')]\n",
      "---\n",
      "[(0.044680856, 'sladkorja'), (0.033039667, 'moke'), (0.024520736, 'za'), (0.018316971, 'mleka'), (0.017546799, 'v'), (0.017263157, 'masla'), (0.014232521, 'smetane'), (0.014167472, 'ali'), (0.013686672, 'sladkor'), (0.012671745, 'prahu'), (0.011828411, 'soli'), (0.010243262, 'vode'), (0.010194512, 'čokolade'), (0.009321667, 'olja'), (0.008917305, 'jajca')]\n",
      "---\n",
      "[(0.035145596, 'bio'), (0.03280593, 'le'), (0.027562017, 'gusto'), (0.022521775, 'milfina'), (0.018065931, 'okus'), (0.017690811, 'natur'), (0.016515201, 'aktiv'), (0.008630853, 'piranske'), (0.008574414, 'iz'), (0.008444114, 'soline'), (0.007188432, 'happy'), (0.006999201, 'korngold'), (0.0067070397, 'bella'), (0.006660133, 'carloni'), (0.0063820537, 'podeželja')]\n",
      "---\n",
      "[(0.008527524, 'kocki)'), (0.006090787, 'marinada'), (0.003928448, 'pesta'), (0.0037239725, 'paličice'), (0.0027994213, 'pesti)'), (0.0024510324, 'pekač)'), (0.00236503, '(bele,'), (0.002326056, 'orehov)'), (0.0022227769, 'kakav,'), (0.0020493364, 'česnom'), (0.0020065058, 'močno'), (0.0019169454, 'korak:'), (0.0018792632, 'različni'), (0.0018129061, 'brusnice,'), (0.0017872131, 'pekoča)')]\n",
      "---\n",
      "[(0.051085353, 'začimbe'), (0.048842777, 'kis'), (0.031383637, 'omaka'), (0.013703916, 'sojina'), (0.010496123, 'solate'), (0.009883347, 'zelenjava'), (0.00972979, 'file'), (0.009629275, 'česen,'), (0.009355267, 'olje,'), (0.008072565, 'koruza'), (0.0064065745, 'fižol'), (0.006391002, 'listi'), (0.0051776203, '(sol,'), (0.0050613605, 'rukola'), (0.004700943, 'sončnično')]\n",
      "---\n",
      "[(0.0053654728, 'ˇ'), (0.0040932107, 'bananinega'), (0.0036652102, 'grobe'), (0.0034235674, 'gre'), (0.0033401076, 'kruhki'), (0.003233169, 'nimamo'), (0.0030997482, 'marsale'), (0.0027841192, 'soka,'), (0.002387021, 'poljuben'), (0.0023698704, 'solata,'), (0.0023593975, 'ostali'), (0.0022259958, 'velja'), (0.002128547, 'osnovo'), (0.00197091, '.)'), (0.0018987749, 'zrezani')]\n",
      "---\n",
      "[(0.006129663, 'janež'), (0.0037902284, 'mandarin'), (0.0027486146, 'smarties'), (0.0026353858, 'francoski'), (0.0026199974, 'luskic'), (0.002469774, 'čaj'), (0.0023485972, 'žlico)'), (0.00228464, 'marcipanove'), (0.0022517734, 'lan,'), (0.0021367935, 'fine'), (0.0020984672, 'nektarja'), (0.0020873556, '(70%'), (0.0018767088, 'materina'), (0.0017990596, 'javorovega'), (0.0017845896, 'mlekarne)')]\n",
      "---\n",
      "[(0.008602498, 'vodke'), (0.005512699, 'polenovke'), (0.0035938805, 'blue'), (0.0026663372, 'topi'), (0.0026029726, '160'), (0.002439016, 'losos'), (0.0022936105, 'zrno'), (0.0022317013, 'dimljen'), (0.0021876022, 'dan:'), (0.0020253668, 'zamenjamo'), (0.001979153, 'petih'), (0.0019386444, 'trda'), (0.0018538849, 'jagodičja'), (0.001829658, 'dobro)'), (0.0018262046, '(jedilnega')]\n",
      "---\n",
      "[(0.042630374, 'sol'), (0.03777181, 'poper'), (0.023979185, 'česna'), (0.022321094, 'olje'), (0.018194526, 'ali'), (0.01791773, 'čebula'), (0.014605451, 'po'), (0.014044785, 'olja'), (0.012305135, 'in'), (0.011158189, 'sol,'), (0.01033699, 'olivno'), (0.009969772, 'peteršilj'), (0.009482615, 'paprika'), (0.009470092, 'na'), (0.009000336, 'srednje')]\n",
      "---\n",
      "[(0.006499383, 'ki'), (0.004104273, 'ga'), (0.004050673, 'jo'), (0.0031793017, 'kavo'), (0.0031226145, 'semen,'), (0.002889382, 'domači'), (0.0028118102, 'puding:'), (0.0027366742, 'sami'), (0.0026546535, 'domač'), (0.002503135, 'kakija'), (0.002480161, '•'), (0.0024482883, 'najbolj'), (0.0022823869, 'sladko'), (0.0021220276, 'stevie'), (0.0021104831, 'olju)')]\n",
      "---\n",
      "[(0.007145665, 'ravna'), (0.0054176026, 'mu'), (0.004354072, 'kupljeno'), (0.003912701, 'polovičke'), (0.0031438014, 'orehovo'), (0.0030877234, 'žafranike'), (0.0026765382, 'sardelnih'), (0.002668936, 'b)'), (0.0024145448, '(120'), (0.0023462742, 'sirova'), (0.0022041139, '(rastlinske)'), (0.0021897051, 'nescafeja'), (0.0021827482, 'č.žlička'), (0.0020740984, 'liker)'), (0.0019760674, 'najljubše')]\n",
      "---\n",
      "[(0.010895191, 'so'), (0.009809147, 'je'), (0.009105145, 'da'), (0.008198555, 'led'), (0.0071299113, 'pri'), (0.0046325377, 'ga'), (0.0042331177, 'toliko,'), (0.003824987, 'bedra'), (0.0038190552, '(kot'), (0.0038069955, 'ker'), (0.0035877952, 'imam'), (0.0034681817, 'sama'), (0.0031301337, 'melona'), (0.0030915684, '×'), (0.0027659521, 'oetker)')]\n",
      "---\n"
     ]
    }
   ],
   "source": [
    "for topic in model_vw.show_topics(12, formatted=False, num_words=15):\n",
    "    print(topic)\n",
    "    print(\"---\")"
   ]
  }
 ],
 "metadata": {
  "kernelspec": {
   "display_name": "Python 3",
   "language": "python",
   "name": "python3"
  },
  "language_info": {
   "codemirror_mode": {
    "name": "ipython",
    "version": 3
   },
   "file_extension": ".py",
   "mimetype": "text/x-python",
   "name": "python",
   "nbconvert_exporter": "python",
   "pygments_lexer": "ipython3",
   "version": "3.7.4"
  }
 },
 "nbformat": 4,
 "nbformat_minor": 2
}

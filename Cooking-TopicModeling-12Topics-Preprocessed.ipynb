{
 "cells": [
  {
   "cell_type": "code",
   "execution_count": 1,
   "metadata": {},
   "outputs": [],
   "source": [
    "from nltk.tokenize import word_tokenize\n",
    "from bs4 import BeautifulSoup\n",
    "import collections\n",
    "import pickle\n",
    "import gensim\n",
    "import re\n",
    "import os"
   ]
  },
  {
   "cell_type": "code",
   "execution_count": 2,
   "metadata": {},
   "outputs": [],
   "source": [
    "with open(\"words_to_delete.csv\") as f:\n",
    "    words_to_delete = f.readlines()\n",
    "words_to_delete = [word.strip() for word in words_to_delete]"
   ]
  },
  {
   "cell_type": "code",
   "execution_count": 3,
   "metadata": {},
   "outputs": [],
   "source": [
    "with open(\"words_to_len.csv\") as f:\n",
    "    words_to_len = f.readlines()\n",
    "words_to_len = [word.strip().split(\",\") for word in words_to_len]\n",
    "words_to_len = dict([[w2, w1] for w1, w2 in words_to_len])"
   ]
  },
  {
   "cell_type": "code",
   "execution_count": 4,
   "metadata": {},
   "outputs": [],
   "source": [
    "with open(\"ingredients_by_recipe.pickle\", \"rb\") as f:\n",
    "    recipes_ingredients = pickle.load(f)"
   ]
  },
  {
   "cell_type": "code",
   "execution_count": 5,
   "metadata": {},
   "outputs": [],
   "source": [
    "def remove_paranthesis(i):\n",
    "    all_paranthesis = re.findall(r\"\\(.+\\)\", i)\n",
    "    for paranthesis in all_paranthesis:\n",
    "        i = i.replace(paranthesis, \"\")\n",
    "    return i.strip()"
   ]
  },
  {
   "cell_type": "code",
   "execution_count": 6,
   "metadata": {},
   "outputs": [],
   "source": [
    "#remove descriptions\n",
    "recipes_ingredients = [[i for i in ingredients if i and not i[-1] == ':'] for ingredients in recipes_ingredients]\n",
    "#remove things in paranthesis\n",
    "recipes_ingredients = [[remove_paranthesis(i) if \"(\" in i else i for i in ingredients] for ingredients in recipes_ingredients]\n",
    "#cahnge / and - and + to space\n",
    "recipes_ingredients = [[i.replace(\"+\", \" \").replace(\"/\", \" \").replace(\"-\", \" \") for i in ingredients] for ingredients in recipes_ingredients]"
   ]
  },
  {
   "cell_type": "code",
   "execution_count": 7,
   "metadata": {},
   "outputs": [],
   "source": [
    "all_words = []\n",
    "[[[all_words.append(w) for w in word_tokenize(i)] for i in ing] for ing in recipes_ingredients]\n",
    "all_words = collections.Counter(all_words)"
   ]
  },
  {
   "cell_type": "code",
   "execution_count": 8,
   "metadata": {},
   "outputs": [],
   "source": [
    "words_to_delete = set(words_to_delete).union(set([w for w, c in all_words.items() if c < 5]))"
   ]
  },
  {
   "cell_type": "code",
   "execution_count": 9,
   "metadata": {},
   "outputs": [],
   "source": [
    "#remove the non-ingredients words from 500 most common words + others\n",
    "recipes_ingredients = [[[w.replace(\"*\", \"\").lower().strip() for w in word_tokenize(i) if w not in words_to_delete and len(w) > 2] for i in ing] for ing in recipes_ingredients]"
   ]
  },
  {
   "cell_type": "code",
   "execution_count": 10,
   "metadata": {},
   "outputs": [],
   "source": [
    "#change words to their lem form\n",
    "recipes_ingredients = [[[words_to_len[w] if w in words_to_len else w for w in i] for i in ing] for ing in recipes_ingredients]"
   ]
  },
  {
   "cell_type": "code",
   "execution_count": 11,
   "metadata": {},
   "outputs": [],
   "source": [
    "def unique_ingredients(ingredients):\n",
    "    all_ingredients = set()\n",
    "    for ing in ingredients:\n",
    "        all_ingredients = all_ingredients.union(set(ing))\n",
    "    return list(all_ingredients)"
   ]
  },
  {
   "cell_type": "code",
   "execution_count": 12,
   "metadata": {},
   "outputs": [],
   "source": [
    "#make each ingredent only repeat once for each recipe\n",
    "recipes_ingredients = [unique_ingredients(ingredients) for ingredients in recipes_ingredients]"
   ]
  },
  {
   "cell_type": "code",
   "execution_count": 13,
   "metadata": {},
   "outputs": [],
   "source": [
    "dic = gensim.corpora.Dictionary(recipes_ingredients)\n",
    "doc_term = [dic.doc2bow(text) for text in recipes_ingredients]"
   ]
  },
  {
   "cell_type": "code",
   "execution_count": 14,
   "metadata": {},
   "outputs": [],
   "source": [
    "model = gensim.models.wrappers.ldavowpalwabbit.LdaVowpalWabbit('/usr/bin/vw', \n",
    "                                                               corpus=doc_term, \n",
    "                                                               id2word=dic,\n",
    "                                                               num_topics=12,\n",
    "                                                               passes=20\n",
    "                                                              )"
   ]
  },
  {
   "cell_type": "code",
   "execution_count": 15,
   "metadata": {},
   "outputs": [
    {
     "name": "stdout",
     "output_type": "stream",
     "text": [
      "[(0.28018343, 'limona'), (0.24821432, 'sok'), (0.16453196, 'sladkor'), (0.09117114, 'pomaranča'), (0.07449341, 'voda'), (0.020157397, 'meta'), (0.01865897, 'kis'), (0.017195323, 'limeta'), (0.0101566855, 'avokado'), (0.00746154, 'jogurt'), (0.0072845165, 'gustin'), (0.0069441884, 'čaj'), (0.0057172487, 'beluši'), (0.0054112636, 'bezeg'), (0.0050608884, 'češnja'), (0.0046910737, 'melisa'), (0.0042475485, 'mango'), (0.0040957863, 'jušna-osnova'), (0.0037022945, 'losos'), (0.0022491734, 'konoplja')]\n",
      "---\n",
      "[(0.3679371, 'jabolko'), (0.21431293, 'banana'), (0.07428403, 'breskev'), (0.06995175, 'ananas'), (0.062792026, 'jogurt'), (0.037304413, 'kompot'), (0.022667924, 'žele'), (0.022124263, 'kivi'), (0.019102756, 'pesa'), (0.01747859, 'melona'), (0.01267836, 'malina'), (0.011261541, 'mandarina'), (0.009388726, 'alkohol'), (0.008651356, 'lubenica'), (0.0079454165, 'bonbon'), (0.0078351395, 'nektarina'), (0.0071145426, 'viski'), (0.0069790687, 'skorja'), (0.0023367906, 'ovca'), (0.002308046, 'panna-cotta')]\n",
      "---\n",
      "[(0.19524774, 'oreščki'), (0.17560244, 'muškat'), (0.09647774, 'ingver'), (0.07742759, 'klinček'), (0.06341011, 'maslo'), (0.059291296, 'cimet'), (0.050505172, 'koriander'), (0.035224024, 'kurkuma'), (0.030518861, 'kumina'), (0.026692983, 'žganje'), (0.026344284, 'čili'), (0.024557361, 'polenta'), (0.017458059, 'kardamon'), (0.011764613, 'masala'), (0.011613213, 'regrad'), (0.009669051, 'curry'), (0.009612529, 'vinski-kamen'), (0.008886343, 'fanta'), (0.008264133, 'jogurt'), (0.007387428, 'sol')]\n",
      "---\n",
      "[(0.26749623, 'soja'), (0.15191726, 'sezam'), (0.1319181, 'buča'), (0.08046646, 'sončnica'), (0.07073186, 'ohrovt'), (0.058522005, 'kvas'), (0.05296686, 'pistacija'), (0.029336942, 'lan'), (0.026819667, 'brstični-ohrovt'), (0.021980861, 'zelene'), (0.020172356, 'mak'), (0.012782697, 'pašteta'), (0.012061791, 'grenivka'), (0.008828349, 'agar'), (0.008095885, 'penina'), (0.0059550717, 'kalček'), (0.005951777, 'sol'), (0.0050931806, 'jušna-osnova'), (0.004864189, 'kozica'), (0.0035944378, 'masa')]\n",
      "---\n",
      "[(0.33820614, 'sadje'), (0.16048342, 'vino'), (0.10246688, 'cimet'), (0.087271646, 'hruška'), (0.067107946, 'sladoled'), (0.062050648, 'konjak'), (0.03771175, 'janež'), (0.035006877, 'nagelj'), (0.030362219, 'grozdje'), (0.011261449, 'vinjak'), (0.010035729, 'šampanjec'), (0.009843732, 'čips'), (0.009483595, 'prepečenec'), (0.0081076715, 'skorje'), (0.006414656, 'kaviar'), (0.004327033, 'kost'), (0.002940992, 'bourbon'), (6.260125e-05, 'pomaranča'), (5.6975703e-05, 'amarena'), (5.695976e-05, 'kruh')]\n",
      "---\n",
      "[(0.32610187, 'marmelada'), (0.21859334, 'jagoda'), (0.15413362, 'marelica'), (0.08054258, 'sliva'), (0.06823573, 'borovnica'), (0.03439655, 'brusnica'), (0.030973881, 'figa'), (0.024195353, 'brin'), (0.01698447, 'kuskus'), (0.014845068, 'pesto'), (0.010455213, 'divjačina'), (0.007179846, 'maffin'), (0.0022746653, 'robida'), (5.3158197e-05, 'rozina'), (3.9438244e-05, 'mandarina'), (3.6794787e-05, 'amarena'), (3.6785223e-05, 'malina'), (3.6784124e-05, 'želatina'), (3.6783018e-05, 'medenjak'), (3.678265e-05, 'glazura')]\n",
      "---\n",
      "[(0.11366082, 'sladkor'), (0.10629803, 'jajce'), (0.09562831, 'moka'), (0.064186424, 'mleko'), (0.062288165, 'vanilija'), (0.05598794, 'maslo'), (0.05245768, 'pecilni-prašek'), (0.049579203, 'smetana'), (0.043292213, 'čokolada'), (0.033118673, 'sol'), (0.0300312, 'margarina'), (0.02955933, 'rum'), (0.029357253, 'olje'), (0.021599857, 'kakav'), (0.02062826, 'oreh'), (0.017835358, 'kvas'), (0.016507626, 'voda'), (0.013934037, 'skuta'), (0.012032564, 'puding'), (0.01116399, 'limona')]\n",
      "---\n",
      "[(0.0873235, 'sol'), (0.07052489, 'poper'), (0.066029385, 'olje'), (0.052959796, 'čebula'), (0.05015583, 'česen'), (0.035966717, 'oliva'), (0.033869237, 'sir'), (0.032999624, 'meso'), (0.0326577, 'paradižnik'), (0.032213587, 'peteršilj'), (0.030363876, 'smetana'), (0.027489062, 'paprika'), (0.026905261, 'jajce'), (0.01740344, 'korenje'), (0.01590034, 'maslo'), (0.0141216125, 'krompir'), (0.012873288, 'vino'), (0.012351522, 'buča'), (0.012224891, 'jušna-osnova'), (0.0120953275, 'goba')]\n",
      "---\n",
      "[(0.26119423, 'liker'), (0.14148656, 'oblat'), (0.12965964, 'pivo'), (0.124150515, 'marcipan'), (0.08465318, 'ribez'), (0.058327094, 'plesen'), (0.052434426, 'napolitanka'), (0.05163166, 'vodka'), (0.02364535, 'pecivo'), (0.014931921, 'malibu'), (0.008820244, 'kola'), (0.0055989022, 'žito'), (0.0001440677, 'čemaž'), (0.00014401734, 'glazura'), (0.00014400869, 'toast'), (0.00014400581, 'masa'), (0.00014400006, 'amarena'), (0.00014399718, 'golobic'), (0.00014399718, 'salama'), (0.00014399432, 'bonbon')]\n",
      "---\n",
      "[(0.14208606, 'med'), (0.08752875, 'mandelj'), (0.07834046, 'kokos'), (0.07477154, 'kosmiči'), (0.06999332, 'cimet'), (0.06399575, 'oreh'), (0.054262575, 'pira'), (0.047991402, 'oves'), (0.04730534, 'bikarbona'), (0.04449565, 'rozina'), (0.044005387, 'lešnik'), (0.040750515, 'sirup'), (0.031193562, 'arašid'), (0.027826883, 'riž'), (0.022112418, 'šunka'), (0.017317785, 'datelj'), (0.015065346, 'rž'), (0.014079997, 'koruza'), (0.013717747, 'javor'), (0.009764785, 'jogurt')]\n",
      "---\n",
      "[(0.24246596, 'sir'), (0.1816277, 'testo'), (0.1603942, 'mascarpone'), (0.117015205, 'kava'), (0.07302195, 'piškot'), (0.044024758, 'hrenovka'), (0.0363799, 'rukola'), (0.036030248, 'žajbelj'), (0.032051068, 'pinjola'), (0.02436622, 'inčun'), (0.010855775, 'redkev'), (0.010031774, 'mortadela'), (0.0060325786, 'motovilec'), (0.004465476, 'kreša'), (0.002968086, 'tiramisu'), (0.0025395588, 'granatno-jabolko'), (0.0023511217, 'sirotka'), (0.0019900936, 'mastro'), (5.489851e-05, 'kaper'), (3.8441904e-05, 'amarena')]\n",
      "---\n",
      "[(0.28400034, 'voda'), (0.25017983, 'moka'), (0.18575852, 'sol'), (0.093737125, 'maščoba'), (0.04133302, 'ajda'), (0.02368158, 'ocvirek'), (0.022162836, 'kostanj'), (0.0149163185, 'palačinke'), (0.01419631, 'zelje'), (0.011424018, 'lovor'), (0.011029011, 'fižol'), (0.010194248, 'repa'), (0.007245722, 'zaseka'), (0.006956165, 'klobasa'), (0.0067283004, 'ješprenj'), (0.0031829742, 'nacho'), (0.0028516885, 'majaron'), (0.0018595445, 'fondant'), (0.0017393176, 'jalapeno'), (0.0008513567, 'mlinci')]\n",
      "---\n"
     ]
    }
   ],
   "source": [
    "for topic in model.show_topics(12, formatted=False, num_words=20):\n",
    "    print(topic)\n",
    "    print(\"---\")"
   ]
  },
  {
   "cell_type": "code",
   "execution_count": null,
   "metadata": {},
   "outputs": [],
   "source": []
  }
 ],
 "metadata": {
  "kernelspec": {
   "display_name": "Python 3",
   "language": "python",
   "name": "python3"
  },
  "language_info": {
   "codemirror_mode": {
    "name": "ipython",
    "version": 3
   },
   "file_extension": ".py",
   "mimetype": "text/x-python",
   "name": "python",
   "nbconvert_exporter": "python",
   "pygments_lexer": "ipython3",
   "version": "3.7.4"
  }
 },
 "nbformat": 4,
 "nbformat_minor": 2
}
